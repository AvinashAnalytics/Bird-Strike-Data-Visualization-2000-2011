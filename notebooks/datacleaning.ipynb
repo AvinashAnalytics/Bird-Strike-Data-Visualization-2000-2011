{
 "cells": [
  {
   "cell_type": "code",
   "execution_count": 74,
   "metadata": {},
   "outputs": [],
   "source": [
    "import pandas as pd"
   ]
  },
  {
   "cell_type": "code",
   "execution_count": 75,
   "metadata": {},
   "outputs": [],
   "source": [
    "df=pd.read_csv(r\"Bird Strikes data.csv\")"
   ]
  },
  {
   "cell_type": "code",
   "execution_count": 76,
   "metadata": {},
   "outputs": [
    {
     "name": "stdout",
     "output_type": "stream",
     "text": [
      "<class 'pandas.core.frame.DataFrame'>\n",
      "RangeIndex: 25558 entries, 0 to 25557\n",
      "Data columns (total 26 columns):\n",
      " #   Column                                   Non-Null Count  Dtype \n",
      "---  ------                                   --------------  ----- \n",
      " 0   Record ID                                25558 non-null  int64 \n",
      " 1   Aircraft: Type                           25429 non-null  object\n",
      " 2   Airport: Name                            25429 non-null  object\n",
      " 3   Altitude bin                             25429 non-null  object\n",
      " 4   Aircraft: Make/Model                     25558 non-null  object\n",
      " 5   Wildlife: Number struck                  25429 non-null  object\n",
      " 6   Wildlife: Number Struck Actual           25558 non-null  int64 \n",
      " 7   Effect: Impact to flight                 2078 non-null   object\n",
      " 8   FlightDate                               25429 non-null  object\n",
      " 9   Effect: Indicated Damage                 25558 non-null  object\n",
      " 10  Aircraft: Number of engines?             25291 non-null  object\n",
      " 11  Aircraft: Airline/Operator               25429 non-null  object\n",
      " 12  Origin State                             25109 non-null  object\n",
      " 13  When: Phase of flight                    25429 non-null  object\n",
      " 14  Conditions: Precipitation                2015 non-null   object\n",
      " 15  Remains of wildlife collected?           25558 non-null  bool  \n",
      " 16  Remains of wildlife sent to Smithsonian  25558 non-null  bool  \n",
      " 17  Remarks                                  20787 non-null  object\n",
      " 18  Wildlife: Size                           25429 non-null  object\n",
      " 19  Conditions: Sky                          25558 non-null  object\n",
      " 20  Wildlife: Species                        25558 non-null  object\n",
      " 21  Pilot warned of birds or wildlife?       25429 non-null  object\n",
      " 22  Cost: Total $                            25558 non-null  object\n",
      " 23  Feet above ground                        25429 non-null  object\n",
      " 24  Number of people injured                 25558 non-null  int64 \n",
      " 25  Is Aircraft Large?                       25429 non-null  object\n",
      "dtypes: bool(2), int64(3), object(21)\n",
      "memory usage: 4.7+ MB\n"
     ]
    }
   ],
   "source": [
    "df.info()"
   ]
  },
  {
   "cell_type": "code",
   "execution_count": 77,
   "metadata": {},
   "outputs": [],
   "source": [
    "import numpy as np\n"
   ]
  },
  {
   "cell_type": "code",
   "execution_count": 78,
   "metadata": {},
   "outputs": [
    {
     "name": "stdout",
     "output_type": "stream",
     "text": [
      "Column 'Record ID':\n",
      "  Sample of unique values: [202152 208159 207601 215953 219878]\n",
      "  Data type: Numeric\n",
      "----------------------------------------\n",
      "Column 'Aircraft: Type':\n",
      "  Sample of unique values: ['Airplane' nan]\n",
      "  Data type: Categorical\n",
      "----------------------------------------\n",
      "Column 'Airport: Name':\n",
      "  Sample of unique values: ['LAGUARDIA NY' 'DALLAS/FORT WORTH INTL ARPT' 'LAKEFRONT AIRPORT'\n",
      " 'SEATTLE-TACOMA INTL' 'NORFOLK INTL']\n",
      "  Data type: Categorical\n",
      "----------------------------------------\n",
      "Column 'Altitude bin':\n",
      "  Sample of unique values: ['> 1000 ft' '< 1000 ft' nan]\n",
      "  Data type: Categorical\n",
      "----------------------------------------\n",
      "Column 'Aircraft: Make/Model':\n",
      "  Sample of unique values: ['B-737-400' 'MD-80' 'C-500' 'CL-RJ100/200' 'A-300']\n",
      "  Data type: Categorical\n",
      "----------------------------------------\n",
      "Column 'Wildlife: Number struck':\n",
      "  Sample of unique values: ['Over 100' '2 to 10' nan '11 to 100' '1']\n",
      "  Data type: Categorical\n",
      "----------------------------------------\n",
      "Column 'Wildlife: Number Struck Actual':\n",
      "  Sample of unique values: [859 424 261 806 942]\n",
      "  Data type: Numeric\n",
      "----------------------------------------\n",
      "Column 'Effect: Impact to flight':\n",
      "  Sample of unique values: ['Engine Shut Down' nan 'Precautionary Landing' 'Other' 'Aborted Take-off']\n",
      "  Data type: Categorical\n",
      "----------------------------------------\n",
      "Column 'FlightDate':\n",
      "  Sample of unique values: ['11/23/00 0:00' '7/25/01 0:00' '9/14/01 0:00' '9/5/02 0:00'\n",
      " '6/23/03 0:00']\n",
      "  Data type: Categorical\n",
      "----------------------------------------\n",
      "Column 'Effect: Indicated Damage':\n",
      "  Sample of unique values: ['Caused damage' 'No damage']\n",
      "  Data type: Categorical\n",
      "----------------------------------------\n",
      "Column 'Aircraft: Number of engines?':\n",
      "  Sample of unique values: ['2' '3' '4' nan '1']\n",
      "  Data type: Categorical\n",
      "----------------------------------------\n",
      "Column 'Aircraft: Airline/Operator':\n",
      "  Sample of unique values: ['US AIRWAYS*' 'AMERICAN AIRLINES' 'BUSINESS' 'ALASKA AIRLINES'\n",
      " 'COMAIR AIRLINES']\n",
      "  Data type: Categorical\n",
      "----------------------------------------\n",
      "Column 'Origin State':\n",
      "  Sample of unique values: ['New York' 'Texas' 'Louisiana' 'Washington' 'Virginia']\n",
      "  Data type: Categorical\n",
      "----------------------------------------\n",
      "Column 'When: Phase of flight':\n",
      "  Sample of unique values: ['Climb' 'Landing Roll' 'Approach' 'Take-off run' 'Descent']\n",
      "  Data type: Categorical\n",
      "----------------------------------------\n",
      "Column 'Conditions: Precipitation':\n",
      "  Sample of unique values: [nan 'Snow' 'Fog' 'Rain' 'Fog, Rain']\n",
      "  Data type: Categorical\n",
      "----------------------------------------\n",
      "Column 'Remains of wildlife collected?':\n",
      "  Sample of unique values: [False  True]\n",
      "  Data type: Numeric\n",
      "----------------------------------------\n",
      "Column 'Remains of wildlife sent to Smithsonian':\n",
      "  Sample of unique values: [False  True]\n",
      "  Data type: Numeric\n",
      "----------------------------------------\n",
      "Column 'Remarks':\n",
      "  Sample of unique values: ['FLT 753. PILOT REPTD A HUNDRED BIRDS ON UNKN TYPE. #1 ENG WAS SHUT DOWN AND DIVERTED TO EWR. SLIGHT VIBRATION. A/C WAS OUT OF SVC FOR REPAIRS TO COWLING, FAN DUCT ACCOUSTIC PANEL. INGESTION. DENTED FAN BLADE #26 IN #1 ENG. HEAVY BLOOD STAINS ON L WINGTIP'\n",
      " '102 CARCASSES FOUND. 1 LDG LIGHT ON NOSE GEAR WAS DAMAGED AND REPLACED.'\n",
      " 'FLEW UNDER A VERY LARGE FLOCK OF BIRDS OVER APCH END OF RWY. NO DMG. JUST A LOT OF BIRD DROPPINGS ON WINDSCREEN.'\n",
      " 'NOTAM WARNING. 26 BIRDS HIT THE A/C, FORCING AN EMERGENCY LDG. 77 BIRDS WERE FOUND DEAD ON RWY/TWY WITH GRASSHOPPERS IN THEIR STOMACHS. SAFETY AREAS COULD NOT BE THOROUGHLY INSPCTD DURING 14 MINUTE SHUTDOWN OF RWY 34L. NO DMG. A/C OUT OF SVC 40 MINS. PHOT'\n",
      " 'NO DMG REPTD.']\n",
      "  Data type: Categorical\n",
      "----------------------------------------\n",
      "Column 'Wildlife: Size':\n",
      "  Sample of unique values: ['Medium' 'Small' 'Large' nan]\n",
      "  Data type: Categorical\n",
      "----------------------------------------\n",
      "Column 'Conditions: Sky':\n",
      "  Sample of unique values: ['No Cloud' 'Some Cloud' 'Overcast']\n",
      "  Data type: Categorical\n",
      "----------------------------------------\n",
      "Column 'Wildlife: Species':\n",
      "  Sample of unique values: ['Unknown bird - medium' 'Rock pigeon' 'European starling'\n",
      " 'Unknown bird - small' 'Canada goose']\n",
      "  Data type: Categorical\n",
      "----------------------------------------\n",
      "Column 'Pilot warned of birds or wildlife?':\n",
      "  Sample of unique values: ['N' 'Y' nan]\n",
      "  Data type: Categorical\n",
      "----------------------------------------\n",
      "Column 'Cost: Total $':\n",
      "  Sample of unique values: ['30,736' '0' '1,481,711' '1,483,141' '8,600']\n",
      "  Data type: Categorical\n",
      "----------------------------------------\n",
      "Column 'Feet above ground':\n",
      "  Sample of unique values: ['1,500' '0' '50' '150' '100']\n",
      "  Data type: Categorical\n",
      "----------------------------------------\n",
      "Column 'Number of people injured':\n",
      "  Sample of unique values: [0 2 1 6]\n",
      "  Data type: Numeric\n",
      "----------------------------------------\n",
      "Column 'Is Aircraft Large?':\n",
      "  Sample of unique values: ['Yes' 'No' nan]\n",
      "  Data type: Categorical\n",
      "----------------------------------------\n"
     ]
    }
   ],
   "source": [
    "\n",
    "# Iterate through each column to check for data type and show sample of 5 unique values\n",
    "for column in df.columns:\n",
    "    unique_values = df[column].unique()[:5]  # Get up to 5 unique values\n",
    "    is_numeric = pd.api.types.is_numeric_dtype(df[column])\n",
    "    \n",
    "    print(f\"Column '{column}':\")\n",
    "    print(f\"  Sample of unique values: {unique_values}\")\n",
    "    \n",
    "    if is_numeric:\n",
    "        print(\"  Data type: Numeric\")\n",
    "    else:\n",
    "        print(\"  Data type: Categorical\")\n",
    "    \n",
    "    print(\"-\" * 40)\n"
   ]
  },
  {
   "cell_type": "code",
   "execution_count": 79,
   "metadata": {},
   "outputs": [],
   "source": [
    "# 1. Drop the 'Altitude bin' column as it has no useful data\n",
    "df.drop(columns=['Altitude bin'], inplace=True)"
   ]
  },
  {
   "cell_type": "code",
   "execution_count": 80,
   "metadata": {},
   "outputs": [],
   "source": [
    "# 2. Handle missing values\n",
    "# Impute 'Aircraft: Type' with the most frequent value\n",
    "df['Aircraft: Type'].fillna(df['Aircraft: Type'].mode()[0], inplace=True)"
   ]
  },
  {
   "cell_type": "code",
   "execution_count": 81,
   "metadata": {},
   "outputs": [],
   "source": [
    "# Impute 'Airport: Name' with the most frequent value\n",
    "df['Airport: Name'].fillna(df['Airport: Name'].mode()[0], inplace=True)"
   ]
  },
  {
   "cell_type": "code",
   "execution_count": 82,
   "metadata": {},
   "outputs": [],
   "source": [
    "# Drop rows with missing values in 'Wildlife: Number struck'\n",
    "df.dropna(subset=['Wildlife: Number struck'], inplace=True)"
   ]
  },
  {
   "cell_type": "code",
   "execution_count": 83,
   "metadata": {},
   "outputs": [],
   "source": [
    "# Impute 'Effect: Impact to flight' with 'Unknown'\n",
    "df['Effect: Impact to flight'].fillna('Unknown', inplace=True)"
   ]
  },
  {
   "cell_type": "code",
   "execution_count": 84,
   "metadata": {},
   "outputs": [],
   "source": [
    "# Impute 'Conditions: Precipitation' with 'Unknown'\n",
    "df['Conditions: Precipitation'].fillna('Unknown', inplace=True)"
   ]
  },
  {
   "cell_type": "code",
   "execution_count": 85,
   "metadata": {},
   "outputs": [],
   "source": [
    "# Impute 'Remarks' with 'No remark'\n",
    "df['Remarks'].fillna('No remark', inplace=True)"
   ]
  },
  {
   "cell_type": "code",
   "execution_count": 86,
   "metadata": {},
   "outputs": [],
   "source": [
    "# Impute 'Wildlife: Size' with the mode\n",
    "df['Wildlife: Size'].fillna(df['Wildlife: Size'].mode()[0], inplace=True)"
   ]
  },
  {
   "cell_type": "code",
   "execution_count": 87,
   "metadata": {},
   "outputs": [],
   "source": [
    "# Impute 'Pilot warned of birds or wildlife?' with 'Unknown'\n",
    "df['Pilot warned of birds or wildlife?'].fillna('Unknown', inplace=True)"
   ]
  },
  {
   "cell_type": "code",
   "execution_count": 88,
   "metadata": {},
   "outputs": [],
   "source": [
    "# Impute 'Is Aircraft Large?' with 'Unknown'\n",
    "df['Is Aircraft Large?'].fillna('Unknown', inplace=True)"
   ]
  },
  {
   "cell_type": "code",
   "execution_count": 89,
   "metadata": {},
   "outputs": [],
   "source": [
    "# 3. Convert 'Feet above ground' from object to numeric (remove commas)\n",
    "df['Feet above ground'] = df['Feet above ground'].replace({',': ''}, regex=True).astype(float)\n"
   ]
  },
  {
   "cell_type": "code",
   "execution_count": 90,
   "metadata": {},
   "outputs": [],
   "source": [
    "# Impute missing values in 'Feet above ground' with the median\n",
    "df['Feet above ground'].fillna(df['Feet above ground'].median(), inplace=True)"
   ]
  },
  {
   "cell_type": "code",
   "execution_count": 91,
   "metadata": {},
   "outputs": [],
   "source": [
    "# 4. Convert 'Cost: Total $' to numeric (remove '$' and commas)\n",
    "df['Cost: Total $'] = df['Cost: Total $'].replace({'\\$': '', ',': ''}, regex=True).astype(float)\n"
   ]
  },
  {
   "cell_type": "code",
   "execution_count": 92,
   "metadata": {},
   "outputs": [
    {
     "name": "stderr",
     "output_type": "stream",
     "text": [
      "C:\\Users\\Avinash rai\\AppData\\Local\\Temp\\ipykernel_19216\\2536073337.py:2: UserWarning: Could not infer format, so each element will be parsed individually, falling back to `dateutil`. To ensure parsing is consistent and as-expected, please specify a format.\n",
      "  df['FlightDate'] = pd.to_datetime(df['FlightDate'], errors='coerce')\n"
     ]
    }
   ],
   "source": [
    "# 5. Convert 'FlightDate' to datetime format\n",
    "df['FlightDate'] = pd.to_datetime(df['FlightDate'], errors='coerce')"
   ]
  },
  {
   "cell_type": "code",
   "execution_count": 93,
   "metadata": {},
   "outputs": [],
   "source": [
    "categorical_cols = ['Aircraft: Type', 'Airport: Name', 'Effect: Impact to flight', 'Wildlife: Number struck', \n",
    "                    'Conditions: Precipitation', 'Aircraft: Make/Model', 'Aircraft: Number of engines?', \n",
    "                    'Aircraft: Airline/Operator', 'Origin State', 'When: Phase of flight', \n",
    "                    'Wildlife: Size', 'Conditions: Sky', 'Wildlife: Species', 'Pilot warned of birds or wildlife?', \n",
    "                    'Is Aircraft Large?', 'Remarks']\n",
    "df[categorical_cols] = df[categorical_cols].apply(lambda x: x.astype('category'))"
   ]
  },
  {
   "cell_type": "code",
   "execution_count": 94,
   "metadata": {},
   "outputs": [],
   "source": [
    "df['Year'] = df['FlightDate'].dt.year.astype('Int64')\n"
   ]
  },
  {
   "cell_type": "code",
   "execution_count": 95,
   "metadata": {},
   "outputs": [
    {
     "name": "stdout",
     "output_type": "stream",
     "text": [
      "<class 'pandas.core.frame.DataFrame'>\n",
      "Index: 25429 entries, 0 to 25557\n",
      "Data columns (total 26 columns):\n",
      " #   Column                                   Non-Null Count  Dtype         \n",
      "---  ------                                   --------------  -----         \n",
      " 0   Record ID                                25429 non-null  int64         \n",
      " 1   Aircraft: Type                           25429 non-null  category      \n",
      " 2   Airport: Name                            25429 non-null  category      \n",
      " 3   Aircraft: Make/Model                     25429 non-null  category      \n",
      " 4   Wildlife: Number struck                  25429 non-null  category      \n",
      " 5   Wildlife: Number Struck Actual           25429 non-null  int64         \n",
      " 6   Effect: Impact to flight                 25429 non-null  category      \n",
      " 7   FlightDate                               25429 non-null  datetime64[ns]\n",
      " 8   Effect: Indicated Damage                 25429 non-null  object        \n",
      " 9   Aircraft: Number of engines?             25195 non-null  category      \n",
      " 10  Aircraft: Airline/Operator               25429 non-null  category      \n",
      " 11  Origin State                             24980 non-null  category      \n",
      " 12  When: Phase of flight                    25429 non-null  category      \n",
      " 13  Conditions: Precipitation                25429 non-null  category      \n",
      " 14  Remains of wildlife collected?           25429 non-null  bool          \n",
      " 15  Remains of wildlife sent to Smithsonian  25429 non-null  bool          \n",
      " 16  Remarks                                  25429 non-null  category      \n",
      " 17  Wildlife: Size                           25429 non-null  category      \n",
      " 18  Conditions: Sky                          25429 non-null  category      \n",
      " 19  Wildlife: Species                        25429 non-null  category      \n",
      " 20  Pilot warned of birds or wildlife?       25429 non-null  category      \n",
      " 21  Cost: Total $                            25429 non-null  float64       \n",
      " 22  Feet above ground                        25429 non-null  float64       \n",
      " 23  Number of people injured                 25429 non-null  int64         \n",
      " 24  Is Aircraft Large?                       25429 non-null  category      \n",
      " 25  Year                                     25429 non-null  Int64         \n",
      "dtypes: Int64(1), bool(2), category(16), datetime64[ns](1), float64(2), int64(3), object(1)\n",
      "memory usage: 3.0+ MB\n"
     ]
    }
   ],
   "source": [
    "df.info()"
   ]
  },
  {
   "cell_type": "code",
   "execution_count": 96,
   "metadata": {},
   "outputs": [],
   "source": [
    "# 4. Handling Missing Values:\n",
    "# a. Handle 'Aircraft: Number of engines?' column with missing values, replace with 'Unknown'\n",
    "df['Aircraft: Number of engines?'] = df['Aircraft: Number of engines?'].cat.add_categories('Unknown').fillna('Unknown')\n",
    "\n",
    "# b. Handle 'Origin State' missing values, replace with 'Unknown'\n",
    "df['Origin State'] = df['Origin State'].cat.add_categories('Unknown').fillna('Unknown')\n",
    "\n",
    "# c. Handle 'Wildlife: Number struck' missing values, replace with 'Unknown'\n",
    "df['Wildlife: Number struck'] = df['Wildlife: Number struck'].cat.add_categories('Unknown').fillna('Unknown')\n",
    "\n",
    "# d. Handle 'Remarks' - If remarks are missing, fill them with 'No remarks'\n",
    "df['Remarks'] = df['Remarks'].cat.add_categories('No remarks').fillna('No remarks')\n"
   ]
  },
  {
   "cell_type": "code",
   "execution_count": 97,
   "metadata": {},
   "outputs": [],
   "source": [
    "# 4. Handling Missing Values:\n",
    "# a. Handle 'Aircraft: Number of engines?' column with missing values, replace with 'Unknown'\n",
    "if 'Unknown' not in df['Aircraft: Number of engines?'].cat.categories:\n",
    "    df['Aircraft: Number of engines?'] = df['Aircraft: Number of engines?'].cat.add_categories('Unknown')\n",
    "df['Aircraft: Number of engines?'] = df['Aircraft: Number of engines?'].fillna('Unknown')\n",
    "\n",
    "# b. Handle 'Origin State' missing values, replace with 'Unknown'\n",
    "if 'Unknown' not in df['Origin State'].cat.categories:\n",
    "    df['Origin State'] = df['Origin State'].cat.add_categories('Unknown')\n",
    "df['Origin State'] = df['Origin State'].fillna('Unknown')\n",
    "\n",
    "# c. Handle 'Wildlife: Number struck' missing values, replace with 'Unknown'\n",
    "if 'Unknown' not in df['Wildlife: Number struck'].cat.categories:\n",
    "    df['Wildlife: Number struck'] = df['Wildlife: Number struck'].cat.add_categories('Unknown')\n",
    "df['Wildlife: Number struck'] = df['Wildlife: Number struck'].fillna('Unknown')\n",
    "\n",
    "# d. Handle 'Remarks' - If remarks are missing, fill them with 'No remarks'\n",
    "if 'No remarks' not in df['Remarks'].cat.categories:\n",
    "    df['Remarks'] = df['Remarks'].cat.add_categories('No remarks')\n",
    "df['Remarks'] = df['Remarks'].fillna('No remarks')\n"
   ]
  },
  {
   "cell_type": "code",
   "execution_count": 98,
   "metadata": {},
   "outputs": [
    {
     "name": "stdout",
     "output_type": "stream",
     "text": [
      "<class 'pandas.core.frame.DataFrame'>\n",
      "RangeIndex: 25429 entries, 0 to 25428\n",
      "Data columns (total 26 columns):\n",
      " #   Column                                   Non-Null Count  Dtype         \n",
      "---  ------                                   --------------  -----         \n",
      " 0   Record ID                                25429 non-null  int64         \n",
      " 1   Aircraft: Type                           25429 non-null  category      \n",
      " 2   Airport: Name                            25429 non-null  category      \n",
      " 3   Aircraft: Make/Model                     25429 non-null  category      \n",
      " 4   Wildlife: Number struck                  25429 non-null  category      \n",
      " 5   Wildlife: Number Struck Actual           25429 non-null  int64         \n",
      " 6   Effect: Impact to flight                 25429 non-null  category      \n",
      " 7   FlightDate                               25429 non-null  datetime64[ns]\n",
      " 8   Effect: Indicated Damage                 25429 non-null  category      \n",
      " 9   Aircraft: Number of engines?             25429 non-null  category      \n",
      " 10  Aircraft: Airline/Operator               25429 non-null  category      \n",
      " 11  Origin State                             25429 non-null  category      \n",
      " 12  When: Phase of flight                    25429 non-null  category      \n",
      " 13  Conditions: Precipitation                25429 non-null  category      \n",
      " 14  Remains of wildlife collected?           25429 non-null  bool          \n",
      " 15  Remains of wildlife sent to Smithsonian  25429 non-null  bool          \n",
      " 16  Remarks                                  25429 non-null  category      \n",
      " 17  Wildlife: Size                           25429 non-null  category      \n",
      " 18  Conditions: Sky                          25429 non-null  category      \n",
      " 19  Wildlife: Species                        25429 non-null  category      \n",
      " 20  Pilot warned of birds or wildlife?       25429 non-null  category      \n",
      " 21  Cost: Total $                            25429 non-null  float64       \n",
      " 22  Feet above ground                        25429 non-null  float64       \n",
      " 23  Number of people injured                 25429 non-null  int64         \n",
      " 24  Is Aircraft Large?                       25429 non-null  category      \n",
      " 25  Year                                     25429 non-null  Int64         \n",
      "dtypes: Int64(1), bool(2), category(17), datetime64[ns](1), float64(2), int64(3)\n",
      "memory usage: 2.7 MB\n",
      "None\n",
      "   Record ID Aircraft: Type                Airport: Name Aircraft: Make/Model  \\\n",
      "0     202152       Airplane                 LAGUARDIA NY            B-737-400   \n",
      "1     208159       Airplane  DALLAS/FORT WORTH INTL ARPT                MD-80   \n",
      "2     207601       Airplane            LAKEFRONT AIRPORT                C-500   \n",
      "3     215953       Airplane          SEATTLE-TACOMA INTL            B-737-400   \n",
      "4     219878       Airplane                 NORFOLK INTL         CL-RJ100/200   \n",
      "\n",
      "  Wildlife: Number struck  Wildlife: Number Struck Actual  \\\n",
      "0                Over 100                             859   \n",
      "1                Over 100                             424   \n",
      "2                Over 100                             261   \n",
      "3                Over 100                             806   \n",
      "4                Over 100                             942   \n",
      "\n",
      "  Effect: Impact to flight FlightDate Effect: Indicated Damage  \\\n",
      "0         Engine Shut Down 2000-11-23            Caused damage   \n",
      "1                  Unknown 2001-07-25            Caused damage   \n",
      "2                  Unknown 2001-09-14                No damage   \n",
      "3    Precautionary Landing 2002-09-05                No damage   \n",
      "4                  Unknown 2003-06-23                No damage   \n",
      "\n",
      "  Aircraft: Number of engines?  ...  \\\n",
      "0                            2  ...   \n",
      "1                            2  ...   \n",
      "2                            2  ...   \n",
      "3                            2  ...   \n",
      "4                            2  ...   \n",
      "\n",
      "                                             Remarks Wildlife: Size  \\\n",
      "0  FLT 753. PILOT REPTD A HUNDRED BIRDS ON UNKN T...         Medium   \n",
      "1  102 CARCASSES FOUND. 1 LDG LIGHT ON NOSE GEAR ...          Small   \n",
      "2  FLEW UNDER A VERY LARGE FLOCK OF BIRDS OVER AP...          Small   \n",
      "3  NOTAM WARNING. 26 BIRDS HIT THE A/C, FORCING A...          Small   \n",
      "4                                      NO DMG REPTD.          Small   \n",
      "\n",
      "  Conditions: Sky      Wildlife: Species  Pilot warned of birds or wildlife?  \\\n",
      "0        No Cloud  Unknown bird - medium                                   N   \n",
      "1      Some Cloud            Rock pigeon                                   Y   \n",
      "2        No Cloud      European starling                                   N   \n",
      "3      Some Cloud      European starling                                   Y   \n",
      "4        No Cloud      European starling                                   N   \n",
      "\n",
      "   Cost: Total $ Feet above ground Number of people injured  \\\n",
      "0        30736.0            1500.0                        0   \n",
      "1            0.0               0.0                        0   \n",
      "2            0.0              50.0                        0   \n",
      "3            0.0              50.0                        0   \n",
      "4            0.0              50.0                        0   \n",
      "\n",
      "  Is Aircraft Large?  Year  \n",
      "0                Yes  2000  \n",
      "1                 No  2001  \n",
      "2                 No  2001  \n",
      "3                Yes  2002  \n",
      "4                 No  2003  \n",
      "\n",
      "[5 rows x 26 columns]\n"
     ]
    }
   ],
   "source": [
    "import pandas as pd\n",
    "import numpy as np\n",
    "\n",
    "# Loading the dataset (replace 'your_dataset.csv' with the actual file)\n",
    "# df = pd.read_csv('your_dataset.csv')\n",
    "\n",
    "# 1. Convert 'FlightDate' to datetime type (if not already)\n",
    "df['FlightDate'] = pd.to_datetime(df['FlightDate'], errors='coerce')\n",
    "\n",
    "# 2. Convert 'Cost: Total $' to numeric (strip commas and convert to float)\n",
    "df['Cost: Total $'] = df['Cost: Total $'].replace({',': ''}, regex=True)\n",
    "df['Cost: Total $'] = pd.to_numeric(df['Cost: Total $'], errors='coerce')\n",
    "\n",
    "# 3. Convert columns that are categorical (object type) to 'category' for memory optimization\n",
    "categorical_columns = ['Aircraft: Type', 'Airport: Name', 'Aircraft: Make/Model', 'Wildlife: Number struck',\n",
    "                       'Effect: Impact to flight', 'Effect: Indicated Damage', 'Aircraft: Number of engines?',\n",
    "                       'Aircraft: Airline/Operator', 'Origin State', 'When: Phase of flight', 'Conditions: Precipitation',\n",
    "                       'Remarks', 'Wildlife: Size', 'Conditions: Sky', 'Wildlife: Species', 'Pilot warned of birds or wildlife?',\n",
    "                       'Is Aircraft Large?']\n",
    "\n",
    "df[categorical_columns] = df[categorical_columns].apply(lambda x: x.astype('category'))\n",
    "\n",
    "# 4. Handling Missing Values:\n",
    "# a. Handle 'Aircraft: Number of engines?' column with missing values, replace with 'Unknown'\n",
    "if 'Unknown' not in df['Aircraft: Number of engines?'].cat.categories:\n",
    "    df['Aircraft: Number of engines?'] = df['Aircraft: Number of engines?'].cat.add_categories('Unknown')\n",
    "df['Aircraft: Number of engines?'] = df['Aircraft: Number of engines?'].fillna('Unknown')\n",
    "\n",
    "# b. Handle 'Origin State' missing values, replace with 'Unknown'\n",
    "if 'Unknown' not in df['Origin State'].cat.categories:\n",
    "    df['Origin State'] = df['Origin State'].cat.add_categories('Unknown')\n",
    "df['Origin State'] = df['Origin State'].fillna('Unknown')\n",
    "\n",
    "# c. Handle 'Wildlife: Number struck' missing values, replace with 'Unknown'\n",
    "if 'Unknown' not in df['Wildlife: Number struck'].cat.categories:\n",
    "    df['Wildlife: Number struck'] = df['Wildlife: Number struck'].cat.add_categories('Unknown')\n",
    "df['Wildlife: Number struck'] = df['Wildlife: Number struck'].fillna('Unknown')\n",
    "\n",
    "# d. Handle 'Remarks' - If remarks are missing, fill them with 'No remarks'\n",
    "if 'No remarks' not in df['Remarks'].cat.categories:\n",
    "    df['Remarks'] = df['Remarks'].cat.add_categories('No remarks')\n",
    "df['Remarks'] = df['Remarks'].fillna('No remarks')\n",
    "\n",
    "# 5. Handle 'Feet above ground' - Convert to numeric (coercing errors for invalid entries)\n",
    "df['Feet above ground'] = pd.to_numeric(df['Feet above ground'], errors='coerce')\n",
    "\n",
    "# 6. Ensure that 'Year' column is extracted correctly from 'FlightDate' and is an integer\n",
    "df['Year'] = df['FlightDate'].dt.year.astype('Int64')\n",
    "\n",
    "# 7. Remove duplicates if any (if necessary)\n",
    "df.drop_duplicates(inplace=True)\n",
    "\n",
    "# 8. Clean the dataset by dropping any rows where critical information is missing (e.g., 'Record ID')\n",
    "df.dropna(subset=['Record ID'], inplace=True)\n",
    "\n",
    "# 9. Reset the index for clarity after dropping rows\n",
    "df.reset_index(drop=True, inplace=True)\n",
    "\n",
    "# Check the final cleaned data\n",
    "print(df.info())\n",
    "print(df.head())\n"
   ]
  },
  {
   "cell_type": "code",
   "execution_count": 99,
   "metadata": {},
   "outputs": [
    {
     "name": "stdout",
     "output_type": "stream",
     "text": [
      "<class 'pandas.core.frame.DataFrame'>\n",
      "RangeIndex: 25429 entries, 0 to 25428\n",
      "Data columns (total 26 columns):\n",
      " #   Column                                   Non-Null Count  Dtype         \n",
      "---  ------                                   --------------  -----         \n",
      " 0   Record ID                                25429 non-null  int64         \n",
      " 1   Aircraft: Type                           25429 non-null  category      \n",
      " 2   Airport: Name                            25429 non-null  category      \n",
      " 3   Aircraft: Make/Model                     25429 non-null  category      \n",
      " 4   Wildlife: Number struck                  25429 non-null  category      \n",
      " 5   Wildlife: Number Struck Actual           25429 non-null  int64         \n",
      " 6   Effect: Impact to flight                 25429 non-null  category      \n",
      " 7   FlightDate                               25429 non-null  datetime64[ns]\n",
      " 8   Effect: Indicated Damage                 25429 non-null  category      \n",
      " 9   Aircraft: Number of engines?             25429 non-null  category      \n",
      " 10  Aircraft: Airline/Operator               25429 non-null  category      \n",
      " 11  Origin State                             25429 non-null  category      \n",
      " 12  When: Phase of flight                    25429 non-null  category      \n",
      " 13  Conditions: Precipitation                25429 non-null  category      \n",
      " 14  Remains of wildlife collected?           25429 non-null  bool          \n",
      " 15  Remains of wildlife sent to Smithsonian  25429 non-null  bool          \n",
      " 16  Remarks                                  25429 non-null  category      \n",
      " 17  Wildlife: Size                           25429 non-null  category      \n",
      " 18  Conditions: Sky                          25429 non-null  category      \n",
      " 19  Wildlife: Species                        25429 non-null  category      \n",
      " 20  Pilot warned of birds or wildlife?       25429 non-null  category      \n",
      " 21  Cost: Total $                            25429 non-null  float64       \n",
      " 22  Feet above ground                        25429 non-null  float64       \n",
      " 23  Number of people injured                 25429 non-null  int64         \n",
      " 24  Is Aircraft Large?                       25429 non-null  category      \n",
      " 25  Year                                     25429 non-null  Int64         \n",
      "dtypes: Int64(1), bool(2), category(17), datetime64[ns](1), float64(2), int64(3)\n",
      "memory usage: 2.7 MB\n"
     ]
    }
   ],
   "source": [
    "df.info()"
   ]
  },
  {
   "cell_type": "code",
   "execution_count": 100,
   "metadata": {},
   "outputs": [],
   "source": [
    "# Save the cleaned dataframe to a new CSV file\n",
    "df.to_csv('cleaned_bird_strikes_data.csv', index=False)"
   ]
  }
 ],
 "metadata": {
  "kernelspec": {
   "display_name": "base",
   "language": "python",
   "name": "python3"
  },
  "language_info": {
   "codemirror_mode": {
    "name": "ipython",
    "version": 3
   },
   "file_extension": ".py",
   "mimetype": "text/x-python",
   "name": "python",
   "nbconvert_exporter": "python",
   "pygments_lexer": "ipython3",
   "version": "3.11.7"
  }
 },
 "nbformat": 4,
 "nbformat_minor": 2
}
